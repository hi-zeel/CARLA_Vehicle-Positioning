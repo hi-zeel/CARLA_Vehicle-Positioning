{
 "cells": [
  {
   "cell_type": "code",
   "execution_count": 1,
   "id": "53fb9247-99c1-425e-af7c-2c0620f97de3",
   "metadata": {},
   "outputs": [],
   "source": [
    "# all imorts\n",
    "import carla\n",
    "import random\n"
   ]
  },
  {
   "cell_type": "code",
   "execution_count": 2,
   "id": "866d2cd9-727e-4257-b3b4-2226fdbf692b",
   "metadata": {},
   "outputs": [],
   "source": [
    "# connect to Carla\n",
    "client = carla.Client('localhost', 2000)\n",
    "world = client.get_world()\n",
    "\n",
    "# get a spawn point\n",
    "spawn_points = world.get_map().get_spawn_points()\n",
    "\n",
    "# get a vehicle from the library\n",
    "bp_lib = world.get_blueprint_library()\n",
    "vehicle_bp = bp_lib.filter('*vehicle.lincoln.mkz_2020*')\n",
    "\n",
    "start_point = spawn_points[0]\n",
    "\n",
    "# spawn a vehicle\n",
    "vehicle = world.try_spawn_actor(vehicle_bp[0], start_point)\n"
   ]
  },
  {
   "cell_type": "code",
   "execution_count": 3,
   "id": "901594ba-1aba-4cae-82c1-037a52cd529a",
   "metadata": {},
   "outputs": [
    {
     "name": "stdout",
     "output_type": "stream",
     "text": [
      "Transform(Location(x=-64.644844, y=24.471010, z=0.589480), Rotation(pitch=0.000000, yaw=0.159198, roll=0.000000))\n"
     ]
    }
   ],
   "source": [
    "# get the car's positon on the map\n",
    "vehicle_pos = vehicle.get_transform()\n",
    "print(vehicle_pos)"
   ]
  },
  {
   "cell_type": "code",
   "execution_count": 4,
   "id": "b7533f1e-6a12-4fa6-a2cb-69fe5cd59d04",
   "metadata": {},
   "outputs": [
    {
     "name": "stdout",
     "output_type": "stream",
     "text": [
      "Transform(Location(x=-64.644844, y=24.471010, z=0.600000), Rotation(pitch=0.000000, yaw=0.159198, roll=0.000000))\n"
     ]
    }
   ],
   "source": [
    "# initial spawn point is the same -just 0.6m hiher off the ground\n",
    "print(start_point)"
   ]
  },
  {
   "cell_type": "code",
   "execution_count": 5,
   "id": "2452ca49-3364-4329-a452-eabaff1bdcfd",
   "metadata": {},
   "outputs": [],
   "source": [
    "# send vehicle off\n",
    "vehicle.set_autopilot()"
   ]
  },
  {
   "cell_type": "code",
   "execution_count": 6,
   "id": "11d56215-1d13-4cff-ada4-8f6372aece21",
   "metadata": {},
   "outputs": [
    {
     "name": "stdout",
     "output_type": "stream",
     "text": [
      "Transform(Location(x=-45.334969, y=-7.280171, z=-0.004557), Rotation(pitch=0.004330, yaw=-90.107475, roll=0.018867))\n"
     ]
    }
   ],
   "source": [
    "# get actual postion from the car movingvehicle\n",
    "vehicle_pos = vehicle.get_transform()\n",
    "print(vehicle_pos)"
   ]
  },
  {
   "cell_type": "code",
   "execution_count": 7,
   "id": "eb2eb683-d693-4883-b743-292212023be9",
   "metadata": {},
   "outputs": [],
   "source": [
    "# now look at the map\n",
    "town_map = world.get_map()"
   ]
  },
  {
   "cell_type": "code",
   "execution_count": 8,
   "id": "07b35f36-c7b2-41c8-b0d3-3906f34a81ef",
   "metadata": {},
   "outputs": [
    {
     "data": {
      "text/plain": [
       "carla.libcarla.Map"
      ]
     },
     "execution_count": 8,
     "metadata": {},
     "output_type": "execute_result"
    }
   ],
   "source": [
    "type(town_map)"
   ]
  },
  {
   "cell_type": "code",
   "execution_count": 9,
   "id": "bb480392-33ac-47ac-9291-f818378ff76f",
   "metadata": {},
   "outputs": [
    {
     "name": "stdout",
     "output_type": "stream",
     "text": [
      "Map(name=Carla/Maps/Town10HD_Opt)\n"
     ]
    }
   ],
   "source": [
    "print(town_map)"
   ]
  },
  {
   "cell_type": "code",
   "execution_count": 10,
   "id": "68c2d367-78ae-46fb-9170-03b15f67a432",
   "metadata": {},
   "outputs": [],
   "source": [
    "roads =town_map.get_topology()"
   ]
  },
  {
   "cell_type": "code",
   "execution_count": 11,
   "id": "721558d7-7498-441a-afac-f7866b287c70",
   "metadata": {},
   "outputs": [
    {
     "name": "stdout",
     "output_type": "stream",
     "text": [
      "[(<carla.libcarla.Waypoint object at 0x000002515D0E5F30>, <carla.libcarla.Waypoint object at 0x000002515D101150>), (<carla.libcarla.Waypoint object at 0x000002515D101030>, <carla.libcarla.Waypoint object at 0x000002515D1011B0>), (<carla.libcarla.Waypoint object at 0x000002515D101210>, <carla.libcarla.Waypoint object at 0x000002515D101270>), (<carla.libcarla.Waypoint object at 0x000002515D1012D0>, <carla.libcarla.Waypoint object at 0x000002515D101330>), (<carla.libcarla.Waypoint object at 0x000002515D101390>, <carla.libcarla.Waypoint object at 0x000002515D1013F0>), (<carla.libcarla.Waypoint object at 0x000002515D101450>, <carla.libcarla.Waypoint object at 0x000002515D1014B0>), (<carla.libcarla.Waypoint object at 0x000002515D101510>, <carla.libcarla.Waypoint object at 0x000002515D101570>), (<carla.libcarla.Waypoint object at 0x000002515D1015D0>, <carla.libcarla.Waypoint object at 0x000002515D101630>), (<carla.libcarla.Waypoint object at 0x000002515D101690>, <carla.libcarla.Waypoint object at 0x000002515D1016F0>), (<carla.libcarla.Waypoint object at 0x000002515D101750>, <carla.libcarla.Waypoint object at 0x000002515D1017B0>), (<carla.libcarla.Waypoint object at 0x000002515D101810>, <carla.libcarla.Waypoint object at 0x000002515D101870>), (<carla.libcarla.Waypoint object at 0x000002515D1018D0>, <carla.libcarla.Waypoint object at 0x000002515D101930>), (<carla.libcarla.Waypoint object at 0x000002515D101990>, <carla.libcarla.Waypoint object at 0x000002515D1019F0>), (<carla.libcarla.Waypoint object at 0x000002515D101A50>, <carla.libcarla.Waypoint object at 0x000002515D101AB0>), (<carla.libcarla.Waypoint object at 0x000002515D101B10>, <carla.libcarla.Waypoint object at 0x000002515D101B70>), (<carla.libcarla.Waypoint object at 0x000002515D101BD0>, <carla.libcarla.Waypoint object at 0x000002515D101C30>), (<carla.libcarla.Waypoint object at 0x000002515D101C90>, <carla.libcarla.Waypoint object at 0x000002515D101CF0>), (<carla.libcarla.Waypoint object at 0x000002515D101D50>, <carla.libcarla.Waypoint object at 0x000002515D101DB0>), (<carla.libcarla.Waypoint object at 0x000002515D101E10>, <carla.libcarla.Waypoint object at 0x000002515D101E70>), (<carla.libcarla.Waypoint object at 0x000002515D101ED0>, <carla.libcarla.Waypoint object at 0x000002515D101F30>), (<carla.libcarla.Waypoint object at 0x000002515D101F90>, <carla.libcarla.Waypoint object at 0x000002515D102030>), (<carla.libcarla.Waypoint object at 0x000002515D102090>, <carla.libcarla.Waypoint object at 0x000002515D1020F0>), (<carla.libcarla.Waypoint object at 0x000002515D102150>, <carla.libcarla.Waypoint object at 0x000002515D1021B0>), (<carla.libcarla.Waypoint object at 0x000002515D102210>, <carla.libcarla.Waypoint object at 0x000002515D102270>), (<carla.libcarla.Waypoint object at 0x000002515D1022D0>, <carla.libcarla.Waypoint object at 0x000002515D102330>), (<carla.libcarla.Waypoint object at 0x000002515D102390>, <carla.libcarla.Waypoint object at 0x000002515D1023F0>), (<carla.libcarla.Waypoint object at 0x000002515D102450>, <carla.libcarla.Waypoint object at 0x000002515D1024B0>), (<carla.libcarla.Waypoint object at 0x000002515D102510>, <carla.libcarla.Waypoint object at 0x000002515D102570>), (<carla.libcarla.Waypoint object at 0x000002515D1025D0>, <carla.libcarla.Waypoint object at 0x000002515D102630>), (<carla.libcarla.Waypoint object at 0x000002515D102690>, <carla.libcarla.Waypoint object at 0x000002515D1026F0>), (<carla.libcarla.Waypoint object at 0x000002515D102750>, <carla.libcarla.Waypoint object at 0x000002515D1027B0>), (<carla.libcarla.Waypoint object at 0x000002515D102810>, <carla.libcarla.Waypoint object at 0x000002515D102870>), (<carla.libcarla.Waypoint object at 0x000002515D1028D0>, <carla.libcarla.Waypoint object at 0x000002515D102930>), (<carla.libcarla.Waypoint object at 0x000002515D102990>, <carla.libcarla.Waypoint object at 0x000002515D1029F0>), (<carla.libcarla.Waypoint object at 0x000002515D102A50>, <carla.libcarla.Waypoint object at 0x000002515D102AB0>), (<carla.libcarla.Waypoint object at 0x000002515D102B10>, <carla.libcarla.Waypoint object at 0x000002515D102B70>), (<carla.libcarla.Waypoint object at 0x000002515D102BD0>, <carla.libcarla.Waypoint object at 0x000002515D102C30>), (<carla.libcarla.Waypoint object at 0x000002515D102C90>, <carla.libcarla.Waypoint object at 0x000002515D102CF0>), (<carla.libcarla.Waypoint object at 0x000002515D102D50>, <carla.libcarla.Waypoint object at 0x000002515D102DB0>), (<carla.libcarla.Waypoint object at 0x000002515D102E10>, <carla.libcarla.Waypoint object at 0x000002515D102E70>), (<carla.libcarla.Waypoint object at 0x000002515D102ED0>, <carla.libcarla.Waypoint object at 0x000002515D102F30>), (<carla.libcarla.Waypoint object at 0x000002515D102F90>, <carla.libcarla.Waypoint object at 0x000002515D103030>), (<carla.libcarla.Waypoint object at 0x000002515D103090>, <carla.libcarla.Waypoint object at 0x000002515D1030F0>), (<carla.libcarla.Waypoint object at 0x000002515D103150>, <carla.libcarla.Waypoint object at 0x000002515D1031B0>), (<carla.libcarla.Waypoint object at 0x000002515D103210>, <carla.libcarla.Waypoint object at 0x000002515D103270>), (<carla.libcarla.Waypoint object at 0x000002515D1032D0>, <carla.libcarla.Waypoint object at 0x000002515D103330>), (<carla.libcarla.Waypoint object at 0x000002515D103390>, <carla.libcarla.Waypoint object at 0x000002515D1033F0>), (<carla.libcarla.Waypoint object at 0x000002515D103450>, <carla.libcarla.Waypoint object at 0x000002515D1034B0>), (<carla.libcarla.Waypoint object at 0x000002515D103510>, <carla.libcarla.Waypoint object at 0x000002515D103570>), (<carla.libcarla.Waypoint object at 0x000002515D1035D0>, <carla.libcarla.Waypoint object at 0x000002515D103630>), (<carla.libcarla.Waypoint object at 0x000002515D103690>, <carla.libcarla.Waypoint object at 0x000002515D1036F0>), (<carla.libcarla.Waypoint object at 0x000002515D103750>, <carla.libcarla.Waypoint object at 0x000002515D1037B0>), (<carla.libcarla.Waypoint object at 0x000002515D103810>, <carla.libcarla.Waypoint object at 0x000002515D103870>), (<carla.libcarla.Waypoint object at 0x000002515D1038D0>, <carla.libcarla.Waypoint object at 0x000002515D103930>), (<carla.libcarla.Waypoint object at 0x000002515D103990>, <carla.libcarla.Waypoint object at 0x000002515D1039F0>), (<carla.libcarla.Waypoint object at 0x000002515D103A50>, <carla.libcarla.Waypoint object at 0x000002515D103AB0>), (<carla.libcarla.Waypoint object at 0x000002515D103B10>, <carla.libcarla.Waypoint object at 0x000002515D103B70>), (<carla.libcarla.Waypoint object at 0x000002515D103BD0>, <carla.libcarla.Waypoint object at 0x000002515D103C30>), (<carla.libcarla.Waypoint object at 0x000002515D103C90>, <carla.libcarla.Waypoint object at 0x000002515D103CF0>), (<carla.libcarla.Waypoint object at 0x000002515D103D50>, <carla.libcarla.Waypoint object at 0x000002515D103DB0>), (<carla.libcarla.Waypoint object at 0x000002515D103E10>, <carla.libcarla.Waypoint object at 0x000002515D103E70>), (<carla.libcarla.Waypoint object at 0x000002515D103ED0>, <carla.libcarla.Waypoint object at 0x000002515D103F30>), (<carla.libcarla.Waypoint object at 0x000002515D103F90>, <carla.libcarla.Waypoint object at 0x000002515D104030>), (<carla.libcarla.Waypoint object at 0x000002515D104090>, <carla.libcarla.Waypoint object at 0x000002515D1040F0>), (<carla.libcarla.Waypoint object at 0x000002515D104150>, <carla.libcarla.Waypoint object at 0x000002515D1041B0>), (<carla.libcarla.Waypoint object at 0x000002515D104210>, <carla.libcarla.Waypoint object at 0x000002515D104270>), (<carla.libcarla.Waypoint object at 0x000002515D1042D0>, <carla.libcarla.Waypoint object at 0x000002515D104330>), (<carla.libcarla.Waypoint object at 0x000002515D104390>, <carla.libcarla.Waypoint object at 0x000002515D1043F0>), (<carla.libcarla.Waypoint object at 0x000002515D104450>, <carla.libcarla.Waypoint object at 0x000002515D1044B0>), (<carla.libcarla.Waypoint object at 0x000002515D104510>, <carla.libcarla.Waypoint object at 0x000002515D104570>), (<carla.libcarla.Waypoint object at 0x000002515D1045D0>, <carla.libcarla.Waypoint object at 0x000002515D104630>), (<carla.libcarla.Waypoint object at 0x000002515D104690>, <carla.libcarla.Waypoint object at 0x000002515D1046F0>), (<carla.libcarla.Waypoint object at 0x000002515D104750>, <carla.libcarla.Waypoint object at 0x000002515D1047B0>), (<carla.libcarla.Waypoint object at 0x000002515D104810>, <carla.libcarla.Waypoint object at 0x000002515D104870>), (<carla.libcarla.Waypoint object at 0x000002515D1048D0>, <carla.libcarla.Waypoint object at 0x000002515D104930>), (<carla.libcarla.Waypoint object at 0x000002515D104990>, <carla.libcarla.Waypoint object at 0x000002515D1049F0>), (<carla.libcarla.Waypoint object at 0x000002515D104A50>, <carla.libcarla.Waypoint object at 0x000002515D104AB0>), (<carla.libcarla.Waypoint object at 0x000002515D104B10>, <carla.libcarla.Waypoint object at 0x000002515D104B70>), (<carla.libcarla.Waypoint object at 0x000002515D104BD0>, <carla.libcarla.Waypoint object at 0x000002515D104C30>), (<carla.libcarla.Waypoint object at 0x000002515D104C90>, <carla.libcarla.Waypoint object at 0x000002515D104CF0>), (<carla.libcarla.Waypoint object at 0x000002515D104D50>, <carla.libcarla.Waypoint object at 0x000002515D104DB0>), (<carla.libcarla.Waypoint object at 0x000002515D104E10>, <carla.libcarla.Waypoint object at 0x000002515D104E70>), (<carla.libcarla.Waypoint object at 0x000002515D104ED0>, <carla.libcarla.Waypoint object at 0x000002515D104F30>), (<carla.libcarla.Waypoint object at 0x000002515D104F90>, <carla.libcarla.Waypoint object at 0x000002515D105030>), (<carla.libcarla.Waypoint object at 0x000002515D105090>, <carla.libcarla.Waypoint object at 0x000002515D1050F0>), (<carla.libcarla.Waypoint object at 0x000002515D105150>, <carla.libcarla.Waypoint object at 0x000002515D1051B0>), (<carla.libcarla.Waypoint object at 0x000002515D105210>, <carla.libcarla.Waypoint object at 0x000002515D105270>), (<carla.libcarla.Waypoint object at 0x000002515D1052D0>, <carla.libcarla.Waypoint object at 0x000002515D105330>), (<carla.libcarla.Waypoint object at 0x000002515D105390>, <carla.libcarla.Waypoint object at 0x000002515D1053F0>), (<carla.libcarla.Waypoint object at 0x000002515D105450>, <carla.libcarla.Waypoint object at 0x000002515D1054B0>), (<carla.libcarla.Waypoint object at 0x000002515D105510>, <carla.libcarla.Waypoint object at 0x000002515D105570>), (<carla.libcarla.Waypoint object at 0x000002515D1055D0>, <carla.libcarla.Waypoint object at 0x000002515D105630>), (<carla.libcarla.Waypoint object at 0x000002515D105690>, <carla.libcarla.Waypoint object at 0x000002515D1056F0>), (<carla.libcarla.Waypoint object at 0x000002515D105750>, <carla.libcarla.Waypoint object at 0x000002515D1057B0>), (<carla.libcarla.Waypoint object at 0x000002515D105810>, <carla.libcarla.Waypoint object at 0x000002515D105870>), (<carla.libcarla.Waypoint object at 0x000002515D1058D0>, <carla.libcarla.Waypoint object at 0x000002515D105930>), (<carla.libcarla.Waypoint object at 0x000002515D105990>, <carla.libcarla.Waypoint object at 0x000002515D1059F0>), (<carla.libcarla.Waypoint object at 0x000002515D105A50>, <carla.libcarla.Waypoint object at 0x000002515D105AB0>), (<carla.libcarla.Waypoint object at 0x000002515D105B10>, <carla.libcarla.Waypoint object at 0x000002515D105B70>), (<carla.libcarla.Waypoint object at 0x000002515D105BD0>, <carla.libcarla.Waypoint object at 0x000002515D105C30>), (<carla.libcarla.Waypoint object at 0x000002515D105C90>, <carla.libcarla.Waypoint object at 0x000002515D105CF0>), (<carla.libcarla.Waypoint object at 0x000002515D105D50>, <carla.libcarla.Waypoint object at 0x000002515D105DB0>), (<carla.libcarla.Waypoint object at 0x000002515D105E10>, <carla.libcarla.Waypoint object at 0x000002515D105E70>), (<carla.libcarla.Waypoint object at 0x000002515D105ED0>, <carla.libcarla.Waypoint object at 0x000002515D105F30>), (<carla.libcarla.Waypoint object at 0x000002515D105F90>, <carla.libcarla.Waypoint object at 0x000002515D106030>), (<carla.libcarla.Waypoint object at 0x000002515D106090>, <carla.libcarla.Waypoint object at 0x000002515D1060F0>), (<carla.libcarla.Waypoint object at 0x000002515D106150>, <carla.libcarla.Waypoint object at 0x000002515D1061B0>), (<carla.libcarla.Waypoint object at 0x000002515D106210>, <carla.libcarla.Waypoint object at 0x000002515D106270>), (<carla.libcarla.Waypoint object at 0x000002515D1062D0>, <carla.libcarla.Waypoint object at 0x000002515D106330>), (<carla.libcarla.Waypoint object at 0x000002515D106390>, <carla.libcarla.Waypoint object at 0x000002515D1063F0>), (<carla.libcarla.Waypoint object at 0x000002515D106450>, <carla.libcarla.Waypoint object at 0x000002515D1064B0>), (<carla.libcarla.Waypoint object at 0x000002515D106510>, <carla.libcarla.Waypoint object at 0x000002515D106570>), (<carla.libcarla.Waypoint object at 0x000002515D1065D0>, <carla.libcarla.Waypoint object at 0x000002515D106630>), (<carla.libcarla.Waypoint object at 0x000002515D106690>, <carla.libcarla.Waypoint object at 0x000002515D1066F0>), (<carla.libcarla.Waypoint object at 0x000002515D106750>, <carla.libcarla.Waypoint object at 0x000002515D1067B0>), (<carla.libcarla.Waypoint object at 0x000002515D106810>, <carla.libcarla.Waypoint object at 0x000002515D106870>), (<carla.libcarla.Waypoint object at 0x000002515D1068D0>, <carla.libcarla.Waypoint object at 0x000002515D106930>), (<carla.libcarla.Waypoint object at 0x000002515D106990>, <carla.libcarla.Waypoint object at 0x000002515D1069F0>), (<carla.libcarla.Waypoint object at 0x000002515D106A50>, <carla.libcarla.Waypoint object at 0x000002515D106AB0>), (<carla.libcarla.Waypoint object at 0x000002515D106B10>, <carla.libcarla.Waypoint object at 0x000002515D106B70>), (<carla.libcarla.Waypoint object at 0x000002515D106BD0>, <carla.libcarla.Waypoint object at 0x000002515D106C30>), (<carla.libcarla.Waypoint object at 0x000002515D106C90>, <carla.libcarla.Waypoint object at 0x000002515D106CF0>), (<carla.libcarla.Waypoint object at 0x000002515D106D50>, <carla.libcarla.Waypoint object at 0x000002515D106DB0>), (<carla.libcarla.Waypoint object at 0x000002515D106E10>, <carla.libcarla.Waypoint object at 0x000002515D106E70>), (<carla.libcarla.Waypoint object at 0x000002515D106ED0>, <carla.libcarla.Waypoint object at 0x000002515D106F30>), (<carla.libcarla.Waypoint object at 0x000002515D106F90>, <carla.libcarla.Waypoint object at 0x000002515D107030>), (<carla.libcarla.Waypoint object at 0x000002515D107090>, <carla.libcarla.Waypoint object at 0x000002515D1070F0>), (<carla.libcarla.Waypoint object at 0x000002515D107150>, <carla.libcarla.Waypoint object at 0x000002515D1071B0>), (<carla.libcarla.Waypoint object at 0x000002515D107210>, <carla.libcarla.Waypoint object at 0x000002515D107270>), (<carla.libcarla.Waypoint object at 0x000002515D1072D0>, <carla.libcarla.Waypoint object at 0x000002515D107330>), (<carla.libcarla.Waypoint object at 0x000002515D107390>, <carla.libcarla.Waypoint object at 0x000002515D1073F0>), (<carla.libcarla.Waypoint object at 0x000002515D107450>, <carla.libcarla.Waypoint object at 0x000002515D1074B0>), (<carla.libcarla.Waypoint object at 0x000002515D107510>, <carla.libcarla.Waypoint object at 0x000002515D107570>), (<carla.libcarla.Waypoint object at 0x000002515D1075D0>, <carla.libcarla.Waypoint object at 0x000002515D107630>), (<carla.libcarla.Waypoint object at 0x000002515D107690>, <carla.libcarla.Waypoint object at 0x000002515D1076F0>), (<carla.libcarla.Waypoint object at 0x000002515D107750>, <carla.libcarla.Waypoint object at 0x000002515D1077B0>), (<carla.libcarla.Waypoint object at 0x000002515D107810>, <carla.libcarla.Waypoint object at 0x000002515D107870>), (<carla.libcarla.Waypoint object at 0x000002515D1078D0>, <carla.libcarla.Waypoint object at 0x000002515D107930>), (<carla.libcarla.Waypoint object at 0x000002515D107990>, <carla.libcarla.Waypoint object at 0x000002515D1079F0>), (<carla.libcarla.Waypoint object at 0x000002515D107A50>, <carla.libcarla.Waypoint object at 0x000002515D107AB0>), (<carla.libcarla.Waypoint object at 0x000002515D107B10>, <carla.libcarla.Waypoint object at 0x000002515D107B70>), (<carla.libcarla.Waypoint object at 0x000002515D107BD0>, <carla.libcarla.Waypoint object at 0x000002515D107C30>), (<carla.libcarla.Waypoint object at 0x000002515D107C90>, <carla.libcarla.Waypoint object at 0x000002515D107CF0>), (<carla.libcarla.Waypoint object at 0x000002515D107D50>, <carla.libcarla.Waypoint object at 0x000002515D107DB0>), (<carla.libcarla.Waypoint object at 0x000002515D107E10>, <carla.libcarla.Waypoint object at 0x000002515D107E70>), (<carla.libcarla.Waypoint object at 0x000002515D107ED0>, <carla.libcarla.Waypoint object at 0x000002515D107F30>), (<carla.libcarla.Waypoint object at 0x000002515D107F90>, <carla.libcarla.Waypoint object at 0x000002515D108030>), (<carla.libcarla.Waypoint object at 0x000002515D108090>, <carla.libcarla.Waypoint object at 0x000002515D1080F0>), (<carla.libcarla.Waypoint object at 0x000002515D108150>, <carla.libcarla.Waypoint object at 0x000002515D1081B0>), (<carla.libcarla.Waypoint object at 0x000002515D108210>, <carla.libcarla.Waypoint object at 0x000002515D108270>), (<carla.libcarla.Waypoint object at 0x000002515D1082D0>, <carla.libcarla.Waypoint object at 0x000002515D108330>), (<carla.libcarla.Waypoint object at 0x000002515D108390>, <carla.libcarla.Waypoint object at 0x000002515D1083F0>), (<carla.libcarla.Waypoint object at 0x000002515D108450>, <carla.libcarla.Waypoint object at 0x000002515D1084B0>), (<carla.libcarla.Waypoint object at 0x000002515D108510>, <carla.libcarla.Waypoint object at 0x000002515D108570>), (<carla.libcarla.Waypoint object at 0x000002515D1085D0>, <carla.libcarla.Waypoint object at 0x000002515D108630>), (<carla.libcarla.Waypoint object at 0x000002515D108690>, <carla.libcarla.Waypoint object at 0x000002515D1086F0>), (<carla.libcarla.Waypoint object at 0x000002515D108750>, <carla.libcarla.Waypoint object at 0x000002515D1087B0>), (<carla.libcarla.Waypoint object at 0x000002515D108810>, <carla.libcarla.Waypoint object at 0x000002515D108870>), (<carla.libcarla.Waypoint object at 0x000002515D1088D0>, <carla.libcarla.Waypoint object at 0x000002515D108930>), (<carla.libcarla.Waypoint object at 0x000002515D108990>, <carla.libcarla.Waypoint object at 0x000002515D1089F0>), (<carla.libcarla.Waypoint object at 0x000002515D108A50>, <carla.libcarla.Waypoint object at 0x000002515D108AB0>), (<carla.libcarla.Waypoint object at 0x000002515D108B10>, <carla.libcarla.Waypoint object at 0x000002515D108B70>), (<carla.libcarla.Waypoint object at 0x000002515D108BD0>, <carla.libcarla.Waypoint object at 0x000002515D108C30>), (<carla.libcarla.Waypoint object at 0x000002515D108C90>, <carla.libcarla.Waypoint object at 0x000002515D108CF0>), (<carla.libcarla.Waypoint object at 0x000002515D108D50>, <carla.libcarla.Waypoint object at 0x000002515D108DB0>), (<carla.libcarla.Waypoint object at 0x000002515D108E10>, <carla.libcarla.Waypoint object at 0x000002515D108E70>), (<carla.libcarla.Waypoint object at 0x000002515D108ED0>, <carla.libcarla.Waypoint object at 0x000002515D108F30>), (<carla.libcarla.Waypoint object at 0x000002515D108F90>, <carla.libcarla.Waypoint object at 0x000002515D109030>), (<carla.libcarla.Waypoint object at 0x000002515D109090>, <carla.libcarla.Waypoint object at 0x000002515D1090F0>), (<carla.libcarla.Waypoint object at 0x000002515D109150>, <carla.libcarla.Waypoint object at 0x000002515D1091B0>), (<carla.libcarla.Waypoint object at 0x000002515D109210>, <carla.libcarla.Waypoint object at 0x000002515D109270>), (<carla.libcarla.Waypoint object at 0x000002515D1092D0>, <carla.libcarla.Waypoint object at 0x000002515D109330>), (<carla.libcarla.Waypoint object at 0x000002515D109390>, <carla.libcarla.Waypoint object at 0x000002515D1093F0>), (<carla.libcarla.Waypoint object at 0x000002515D109450>, <carla.libcarla.Waypoint object at 0x000002515D1094B0>), (<carla.libcarla.Waypoint object at 0x000002515D109510>, <carla.libcarla.Waypoint object at 0x000002515D109570>), (<carla.libcarla.Waypoint object at 0x000002515D1095D0>, <carla.libcarla.Waypoint object at 0x000002515D109630>), (<carla.libcarla.Waypoint object at 0x000002515D109690>, <carla.libcarla.Waypoint object at 0x000002515D1096F0>), (<carla.libcarla.Waypoint object at 0x000002515D109750>, <carla.libcarla.Waypoint object at 0x000002515D1097B0>), (<carla.libcarla.Waypoint object at 0x000002515D109810>, <carla.libcarla.Waypoint object at 0x000002515D109870>), (<carla.libcarla.Waypoint object at 0x000002515D1098D0>, <carla.libcarla.Waypoint object at 0x000002515D109930>), (<carla.libcarla.Waypoint object at 0x000002515D109990>, <carla.libcarla.Waypoint object at 0x000002515D1099F0>), (<carla.libcarla.Waypoint object at 0x000002515D109A50>, <carla.libcarla.Waypoint object at 0x000002515D109AB0>), (<carla.libcarla.Waypoint object at 0x000002515D109B10>, <carla.libcarla.Waypoint object at 0x000002515D109B70>), (<carla.libcarla.Waypoint object at 0x000002515D109BD0>, <carla.libcarla.Waypoint object at 0x000002515D109C30>), (<carla.libcarla.Waypoint object at 0x000002515D109C90>, <carla.libcarla.Waypoint object at 0x000002515D109CF0>), (<carla.libcarla.Waypoint object at 0x000002515D109D50>, <carla.libcarla.Waypoint object at 0x000002515D109DB0>), (<carla.libcarla.Waypoint object at 0x000002515D109E10>, <carla.libcarla.Waypoint object at 0x000002515D109E70>), (<carla.libcarla.Waypoint object at 0x000002515D109ED0>, <carla.libcarla.Waypoint object at 0x000002515D109F30>), (<carla.libcarla.Waypoint object at 0x000002515D109F90>, <carla.libcarla.Waypoint object at 0x000002515D10A030>), (<carla.libcarla.Waypoint object at 0x000002515D10A090>, <carla.libcarla.Waypoint object at 0x000002515D10A0F0>), (<carla.libcarla.Waypoint object at 0x000002515D10A150>, <carla.libcarla.Waypoint object at 0x000002515D10A1B0>), (<carla.libcarla.Waypoint object at 0x000002515D10A210>, <carla.libcarla.Waypoint object at 0x000002515D10A270>), (<carla.libcarla.Waypoint object at 0x000002515D10A2D0>, <carla.libcarla.Waypoint object at 0x000002515D10A330>), (<carla.libcarla.Waypoint object at 0x000002515D10A390>, <carla.libcarla.Waypoint object at 0x000002515D10A3F0>), (<carla.libcarla.Waypoint object at 0x000002515D10A450>, <carla.libcarla.Waypoint object at 0x000002515D10A4B0>), (<carla.libcarla.Waypoint object at 0x000002515D10A510>, <carla.libcarla.Waypoint object at 0x000002515D10A570>), (<carla.libcarla.Waypoint object at 0x000002515D10A5D0>, <carla.libcarla.Waypoint object at 0x000002515D10A630>), (<carla.libcarla.Waypoint object at 0x000002515D10A690>, <carla.libcarla.Waypoint object at 0x000002515D10A6F0>), (<carla.libcarla.Waypoint object at 0x000002515D10A750>, <carla.libcarla.Waypoint object at 0x000002515D10A7B0>), (<carla.libcarla.Waypoint object at 0x000002515D10A810>, <carla.libcarla.Waypoint object at 0x000002515D10A870>)]\n"
     ]
    }
   ],
   "source": [
    "# topology is pairs of waypoints defining all roads - tuples of those\n",
    "print(roads)"
   ]
  },
  {
   "cell_type": "code",
   "execution_count": 12,
   "id": "cf9d2de7-3a56-4351-8d33-b8fdcbfb568b",
   "metadata": {},
   "outputs": [
    {
     "name": "stdout",
     "output_type": "stream",
     "text": [
      "Waypoint(Transform(Location(x=109.929878, y=-9.334196, z=0.000000), Rotation(pitch=0.000000, yaw=-89.609253, roll=0.000000)))\n"
     ]
    }
   ],
   "source": [
    "# have a look ata a waypoint - itis transform wrapped as a waypoint\n",
    "print(roads[0][0])"
   ]
  },
  {
   "cell_type": "code",
   "execution_count": 13,
   "id": "f8d9d4b6-7b01-4e9e-9743-9992020ae0c4",
   "metadata": {},
   "outputs": [
    {
     "data": {
      "text/plain": [
       "200"
      ]
     },
     "execution_count": 13,
     "metadata": {},
     "output_type": "execute_result"
    }
   ],
   "source": [
    "len(roads)"
   ]
  },
  {
   "cell_type": "code",
   "execution_count": 14,
   "id": "9ae0675d-19dc-4e32-bbb8-526d2af01a54",
   "metadata": {},
   "outputs": [],
   "source": [
    "# making a route\n",
    "#from onw postion to another"
   ]
  },
  {
   "cell_type": "code",
   "execution_count": 15,
   "id": "db1c1b1a-bb41-481e-9f89-e9958a6f986b",
   "metadata": {},
   "outputs": [],
   "source": [
    "# import some code coming with the sim\n",
    "import sys\n",
    "sys.path.append('Z:\\CARLA_0.9.14\\WindowsNoEditor\\PythonAPI\\carla')\n",
    "from agents.navigation.global_route_planner import GlobalRoutePlanner"
   ]
  },
  {
   "cell_type": "code",
   "execution_count": 16,
   "id": "f363796d-736b-447b-b9ff-9f1b151ee25c",
   "metadata": {},
   "outputs": [],
   "source": [
    "# using the code to plan the route and then draw it in the simulator\n",
    "town10hd_map = world.get_map()\n",
    "\n",
    "sampling_resolution = 2\n",
    "\n",
    "grp = GlobalRoutePlanner(town_map, sampling_resolution)\n",
    "\n",
    "point_a = carla.Location(x=-64.644844, y=24.471010, z=-0.004847)\n",
    "point_b = carla.Location(x=14.355174, y=-67.902527, z=-0.004591)\n",
    "\n",
    "route = grp.trace_route(point_a, point_b) #there are other function can be use\n",
    "\n",
    "for waypoint in route:\n",
    "    world.debug.draw_string(waypoint[0].transform.location, '^', \n",
    "                            draw_shadow = False, \n",
    "                            color = carla.Color(r=0 , g=0 , b=255), \n",
    "                            life_time = 120.0, persistent_lines= True)\n",
    "    "
   ]
  },
  {
   "cell_type": "code",
   "execution_count": 3,
   "id": "668bfb93-d14b-43a6-b369-e1404772dd7c",
   "metadata": {},
   "outputs": [],
   "source": [
    "# utility script of destruction\n",
    "\n",
    "for actor in world.get_actors().filter('*vehicle*'):\n",
    "    actor.destroy()\n",
    "for sensor in world.get_actors().filter('*sensor*'):\n",
    "    sensor.destroy()\n"
   ]
  },
  {
   "cell_type": "code",
   "execution_count": 18,
   "id": "1695e36d-fd3e-4c04-bf0c-43ee8b9e750a",
   "metadata": {},
   "outputs": [],
   "source": [
    "# now we define 2 vehicles\n",
    "lincoln_bp = world.get_blueprint_library().filter('*vehicle.lincoln.mkz_2020*')\n",
    "mini_bp = world.get_blueprint_library().filter('*cooper_s*')\n",
    "\n",
    "#start first car in the already defined stard point\n",
    "lincoln = world.try_spawn_actor(lincoln_bp[0], start_point)"
   ]
  },
  {
   "cell_type": "code",
   "execution_count": 19,
   "id": "9c6cef1f-0082-4ff9-aaaf-065b330d025e",
   "metadata": {},
   "outputs": [],
   "source": [
    "# tweak spectator position to watch the show\n",
    "\n",
    "spectator = world.get_spectator()\n",
    "spawn_points = world.get_map().get_spawn_points()\n",
    "start_point = spawn_points[0]\n",
    "\n",
    "spectatoe_pos = carla.Transform(start_point.location + carla.Location(x=20, y=2, z=3),\n",
    "                               carla.Rotation(yaw = start_point.rotation.yaw - 180))\n",
    "spectator.set_transform(spectatoe_pos)"
   ]
  },
  {
   "cell_type": "code",
   "execution_count": 20,
   "id": "acf10ab8-55ad-4c41-8b85-54c5996646b6",
   "metadata": {},
   "outputs": [
    {
     "name": "stdout",
     "output_type": "stream",
     "text": [
      "Mini Cooper spawned successfully.\n"
     ]
    }
   ],
   "source": [
    "# drop the mini from sky\n",
    "\n",
    "# Get blueprints and spawn points\n",
    "blueprint_library = world.get_blueprint_library() # Make sure the blueprint is properly assigned\n",
    "mini_bp = blueprint_library.find('vehicle.audi.a2')  # Mini Cooper blueprint\n",
    "\n",
    "# Use a valid spawn point from the list, e.g., spawn_points[10]\n",
    "if len(spawn_points) > 10:\n",
    "    spawn_point = spawn_points[0]\n",
    "    # Adjust the z-coordinate for ground level\n",
    "    spawn_point.location.z = world.get_map().get_waypoint(spawn_point.location).transform.location.z\n",
    "    \n",
    "    # Apply an offset to the spawn point (e.g., move slightly above)\n",
    "    offset_spawn_point = carla.Transform(\n",
    "        spawn_point.location + carla.Location(x=-3, y=0, z=10),  # Adjust the Z value for offset\n",
    "        spawn_point.rotation  # Maintain the same rotation as the spawn point\n",
    "    )\n",
    "\n",
    "    try:\n",
    "        # Try to spawn the actor at the new position with the adjusted offset\n",
    "        mini = world.try_spawn_actor(mini_bp, offset_spawn_point)\n",
    "        if mini is None:\n",
    "            print(\"Failed to spawn even with an offset.\")\n",
    "        else:\n",
    "            print(\"Mini Cooper spawned successfully.\")\n",
    "            # Focus spectator on the spawned vehicle\n",
    "            spectator = world.get_spectator()\n",
    "            spawn_points = world.get_map().get_spawn_points()\n",
    "            start_point = spawn_points[0]\n",
    "\n",
    "            spectatoe_pos = carla.Transform(start_point.location + carla.Location(x=20, y=2, z=3),\n",
    "                               carla.Rotation(yaw = start_point.rotation.yaw - 180))\n",
    "            spectator.set_transform(spectatoe_pos)\n",
    "\n",
    "    except Exception as e:\n",
    "        print(f\"Error during spawn: {e}\")\n",
    "else:\n",
    "    print(\"Spawn point 10 does not exist.\")\n",
    "\n"
   ]
  },
  {
   "cell_type": "code",
   "execution_count": 21,
   "id": "66f4418b-ab2d-49f5-a066-42410041d57d",
   "metadata": {},
   "outputs": [
    {
     "name": "stdout",
     "output_type": "stream",
     "text": [
      "vehicle.audi.a2\n",
      "vehicle.nissan.micra\n",
      "vehicle.audi.tt\n",
      "vehicle.mercedes.coupe_2020\n",
      "vehicle.bmw.grandtourer\n",
      "vehicle.harley-davidson.low_rider\n",
      "vehicle.ford.ambulance\n",
      "vehicle.micro.microlino\n",
      "vehicle.carlamotors.firetruck\n",
      "vehicle.carlamotors.carlacola\n",
      "vehicle.ford.mustang\n",
      "vehicle.chevrolet.impala\n",
      "vehicle.lincoln.mkz_2020\n",
      "vehicle.citroen.c3\n",
      "vehicle.dodge.charger_police\n",
      "vehicle.nissan.patrol\n",
      "vehicle.jeep.wrangler_rubicon\n",
      "vehicle.mini.cooper_s\n",
      "vehicle.mercedes.coupe\n",
      "vehicle.dodge.charger_2020\n",
      "vehicle.ford.crown\n",
      "vehicle.seat.leon\n",
      "vehicle.toyota.prius\n",
      "vehicle.yamaha.yzf\n",
      "vehicle.kawasaki.ninja\n",
      "vehicle.bh.crossbike\n",
      "vehicle.mitsubishi.fusorosa\n",
      "vehicle.tesla.model3\n",
      "vehicle.gazelle.omafiets\n",
      "vehicle.tesla.cybertruck\n",
      "vehicle.diamondback.century\n",
      "vehicle.mercedes.sprinter\n",
      "vehicle.audi.etron\n",
      "vehicle.volkswagen.t2\n",
      "vehicle.lincoln.mkz_2017\n",
      "vehicle.dodge.charger_police_2020\n",
      "vehicle.vespa.zx125\n",
      "vehicle.mini.cooper_s_2021\n",
      "vehicle.nissan.patrol_2021\n",
      "vehicle.volkswagen.t2_2021\n",
      "Spawned vehicle: vehicle.audi.a2 at location: Location(x=-67.045288, y=-68.693169, z=0.600000)\n",
      "Spawned vehicle: vehicle.audi.a2 at location: Location(x=43.373123, y=16.909227, z=0.600000)\n",
      "Spawned vehicle: vehicle.audi.a2 at location: Location(x=-41.825108, y=-6.604221, z=0.600000)\n",
      "Spawned vehicle: vehicle.bmw.grandtourer at location: Location(x=-109.929558, y=-23.428406, z=0.599995)\n",
      "Spawned vehicle: vehicle.audi.a2 at location: Location(x=-45.160957, y=92.455330, z=0.600000)\n",
      "Spawned vehicle: vehicle.tesla.model3 at location: Location(x=102.980186, y=-22.705795, z=0.600000)\n",
      "Spawned vehicle: vehicle.bmw.grandtourer at location: Location(x=-64.103928, y=16.505888, z=0.600000)\n",
      "Spawned vehicle: vehicle.audi.a2 at location: Location(x=-0.764156, y=24.613132, z=0.600000)\n",
      "Spawned vehicle: vehicle.audi.a2 at location: Location(x=-41.749878, y=-41.373684, z=0.600000)\n",
      "Spawned vehicle: vehicle.tesla.model3 at location: Location(x=-68.735168, y=129.303848, z=0.600000)\n",
      "Traffic destroyed.\n"
     ]
    }
   ],
   "source": [
    "import carla\n",
    "import random\n",
    "import time\n",
    "\n",
    "# Connect to the CARLA client\n",
    "client = carla.Client('localhost', 2000)\n",
    "client.set_timeout(10.0)\n",
    "world = client.get_world()\n",
    "\n",
    "# Get the vehicle blueprint library\n",
    "blueprint_library = world.get_blueprint_library()\n",
    "\n",
    "# List available vehicle blueprints\n",
    "vehicle_blueprints = blueprint_library.filter('vehicle.*')\n",
    "for blueprint in vehicle_blueprints:\n",
    "    print(blueprint.id)  # This will print the available vehicle blueprints\n",
    "\n",
    "# Update the vehicle_types list with available vehicles\n",
    "vehicle_types = ['vehicle.tesla.model3', 'vehicle.audi.a2', 'vehicle.bmw.grandtourer']\n",
    "\n",
    "# Get all the spawn points available in the world\n",
    "spawn_points = world.get_map().get_spawn_points()\n",
    "\n",
    "# Function to spawn traffic vehicles\n",
    "def spawn_traffic(num_vehicles):\n",
    "    vehicles = []  # To store spawned vehicle actors\n",
    "    for _ in range(num_vehicles):\n",
    "        # Pick a random vehicle type from the list\n",
    "        vehicle_bp = random.choice(vehicle_types)\n",
    "\n",
    "        # Pick a random spawn point from the available spawn points\n",
    "        spawn_point = random.choice(spawn_points)\n",
    "\n",
    "        \n",
    "        # Ensure spawn point is valid\n",
    "        vehicle = None\n",
    "        for _ in range(10):  # Try up to 10 times to spawn at a valid location\n",
    "            vehicle = world.try_spawn_actor(blueprint_library.find(vehicle_bp), spawn_point)\n",
    "            if vehicle is not None:\n",
    "                print(f\"Spawned vehicle: {vehicle.type_id} at location: {spawn_point.location}\")\n",
    "                break\n",
    "            else:\n",
    "                # If spawn fails, try another spawn point\n",
    "                spawn_point = random.choice(spawn_points)\n",
    "                print(f\"Spawn failed at {spawn_point.location}, trying again.\")\n",
    "        \n",
    "        if vehicle is not None:\n",
    "            # Enable autopilot so the vehicle will drive around\n",
    "            vehicle.set_autopilot(True)\n",
    "            # Add the vehicle to the list of vehicles\n",
    "            vehicles.append(vehicle)\n",
    "        else:\n",
    "            print(\"Failed to spawn vehicle after multiple attempts.\")\n",
    "    \n",
    "    return vehicles\n",
    "\n",
    "# Function to start the traffic\n",
    "def start_traffic():\n",
    "    # Spawn 10 vehicles in the world (you can adjust the number as needed)\n",
    "    traffic_vehicles = spawn_traffic(10)\n",
    "\n",
    "    # Run traffic for 30 seconds (you can adjust this duration)\n",
    "    time.sleep(30)\n",
    "\n",
    "    # Destroy all vehicles after the traffic duration\n",
    "    for vehicle in traffic_vehicles:\n",
    "        vehicle.destroy()\n",
    "    print(\"Traffic destroyed.\")\n",
    "\n",
    "# Run the traffic generation\n",
    "start_traffic()"
   ]
  },
  {
   "cell_type": "code",
   "execution_count": 3,
   "id": "d03d4ef7-5d78-4b53-ad40-85c26662a99d",
   "metadata": {},
   "outputs": [],
   "source": [
    "# utility script of destruction\n",
    "\n",
    "for actor in world.get_actors().filter('*vehicle*'):\n",
    "    actor.destroy()\n",
    "for sensor in world.get_actors().filter('*sensor*'):\n",
    "    sensor.destroy()\n"
   ]
  },
  {
   "cell_type": "code",
   "execution_count": null,
   "id": "8c1c2bdf-f0cf-493e-8596-d0ca3ed4e841",
   "metadata": {},
   "outputs": [],
   "source": []
  }
 ],
 "metadata": {
  "kernelspec": {
   "display_name": "Python (carla-sim)",
   "language": "python",
   "name": "carla-sim"
  },
  "language_info": {
   "codemirror_mode": {
    "name": "ipython",
    "version": 3
   },
   "file_extension": ".py",
   "mimetype": "text/x-python",
   "name": "python",
   "nbconvert_exporter": "python",
   "pygments_lexer": "ipython3",
   "version": "3.7.16"
  }
 },
 "nbformat": 4,
 "nbformat_minor": 5
}
